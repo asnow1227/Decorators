{
 "cells": [
  {
   "cell_type": "markdown",
   "metadata": {},
   "source": [
    "### Decorators"
   ]
  },
  {
   "cell_type": "markdown",
   "metadata": {},
   "source": [
    "a design pattern in Python that allows a user to add new functionality to an existing object without modifying its structure. "
   ]
  },
  {
   "cell_type": "code",
   "execution_count": 84,
   "metadata": {},
   "outputs": [],
   "source": [
    "def loop_through(lst):\n",
    "    for element in lst:\n",
    "        print(element)"
   ]
  },
  {
   "cell_type": "code",
   "execution_count": 85,
   "metadata": {},
   "outputs": [
    {
     "name": "stdout",
     "output_type": "stream",
     "text": [
      "None\n",
      "None\n",
      "None\n",
      "None\n",
      "None\n",
      "None\n",
      "None\n",
      "None\n",
      "None\n",
      "None\n"
     ]
    }
   ],
   "source": [
    "lst = [None]*10\n",
    "loop_through(lst)"
   ]
  },
  {
   "cell_type": "markdown",
   "metadata": {},
   "source": [
    "Suppose I have some list - \"lst\" - that I want to iterate through like the above. What if I want to time how long it takes for the loop through all the elements in the list, depending on its size? I could do something like the below."
   ]
  },
  {
   "cell_type": "code",
   "execution_count": 86,
   "metadata": {},
   "outputs": [],
   "source": [
    "from time import perf_counter"
   ]
  },
  {
   "cell_type": "code",
   "execution_count": 87,
   "metadata": {},
   "outputs": [],
   "source": [
    "def loop_through(size=1000):\n",
    "    lst = [None]*size\n",
    "    now = perf_counter()\n",
    "    for element in lst:\n",
    "        pass\n",
    "    total_time = perf_counter() - now\n",
    "    print(f'ran in: {total_time}')"
   ]
  },
  {
   "cell_type": "code",
   "execution_count": 88,
   "metadata": {},
   "outputs": [
    {
     "name": "stdout",
     "output_type": "stream",
     "text": [
      "ran in: 1.6807000065455213e-05\n"
     ]
    }
   ],
   "source": [
    "loop_through(1000)"
   ]
  },
  {
   "cell_type": "markdown",
   "metadata": {},
   "source": [
    "but we may have other useful functions we want to time, and we may want to run these mutliple times to get an average run time or an aggregate that is more comprehensible. A decorator should do the trick. "
   ]
  },
  {
   "cell_type": "code",
   "execution_count": 81,
   "metadata": {},
   "outputs": [],
   "source": [
    "def timeit(func):\n",
    "    def wrapper(*args, **kwargs):\n",
    "        now = perf_counter()\n",
    "        res = func(*args, **kwargs)\n",
    "        total_time = perf_counter() - now\n",
    "        print(f'{func.__name__} ran in: {total_time}')\n",
    "        return res\n",
    "    return wrapper"
   ]
  },
  {
   "cell_type": "code",
   "execution_count": 89,
   "metadata": {},
   "outputs": [],
   "source": [
    "@timeit\n",
    "def new_loop_through(size=1000):\n",
    "    lst = [None]*size\n",
    "    for element in lst:\n",
    "        pass    "
   ]
  },
  {
   "cell_type": "code",
   "execution_count": 90,
   "metadata": {},
   "outputs": [
    {
     "name": "stdout",
     "output_type": "stream",
     "text": [
      "new_loop_through ran in: 2.478399983374402e-05\n"
     ]
    }
   ],
   "source": [
    "new_loop_through()"
   ]
  },
  {
   "cell_type": "code",
   "execution_count": 91,
   "metadata": {},
   "outputs": [],
   "source": [
    "@timeit\n",
    "def sum_first_n_brute_force(n=1000):\n",
    "    return sum([i for i in range(1, n+1)])\n",
    "\n",
    "@timeit\n",
    "def sum_first_n_formula(n=1000):\n",
    "    return n*(n+1)/2"
   ]
  },
  {
   "cell_type": "code",
   "execution_count": 92,
   "metadata": {},
   "outputs": [
    {
     "name": "stdout",
     "output_type": "stream",
     "text": [
      "sum_first_n_brute_force ran in: 9.132900004260591e-05\n",
      "500500\n",
      "sum_first_n_formula ran in: 2.3849997887737118e-06\n",
      "500500.0\n"
     ]
    }
   ],
   "source": [
    "print(sum_first_n_brute_force())\n",
    "print(sum_first_n_formula())"
   ]
  },
  {
   "cell_type": "markdown",
   "metadata": {},
   "source": [
    "adding the @timeit above a function is equivalent to the below"
   ]
  },
  {
   "cell_type": "code",
   "execution_count": 45,
   "metadata": {},
   "outputs": [],
   "source": [
    "def my_func():\n",
    "    pass\n",
    "\n",
    "my_func = timeit(my_func)"
   ]
  },
  {
   "cell_type": "code",
   "execution_count": 46,
   "metadata": {},
   "outputs": [
    {
     "name": "stdout",
     "output_type": "stream",
     "text": [
      "my_func ran in: 0:00:00.000009\n"
     ]
    }
   ],
   "source": [
    "my_func()"
   ]
  },
  {
   "cell_type": "markdown",
   "metadata": {},
   "source": [
    "so what if we want to take the aggregate of a number of runs? We would need our timeit function to take some arguments. We might want something like the below."
   ]
  },
  {
   "cell_type": "code",
   "execution_count": null,
   "metadata": {},
   "outputs": [],
   "source": [
    "@timeit(iters=10000)\n",
    "def my_func():\n",
    "    pass"
   ]
  },
  {
   "cell_type": "markdown",
   "metadata": {},
   "source": [
    "If we look at the expressions above, we see that this would be equivalent to"
   ]
  },
  {
   "cell_type": "code",
   "execution_count": null,
   "metadata": {},
   "outputs": [],
   "source": [
    "def my_func():\n",
    "    pass\n",
    "\n",
    "my_func = timeit(iters=10000)(my_func)"
   ]
  },
  {
   "cell_type": "markdown",
   "metadata": {},
   "source": [
    "This means we essentially need our original decorator back after calling the timeit function with the iters argument. So we need to do something like below"
   ]
  },
  {
   "cell_type": "code",
   "execution_count": 93,
   "metadata": {},
   "outputs": [],
   "source": [
    "def timeit(iters=10000):\n",
    "    def inner(func):\n",
    "        def wrapper(*args, **kwargs):\n",
    "            total_time = 0\n",
    "            for i in range(iters):\n",
    "                now = perf_counter()\n",
    "                res = func(*args, **kwargs)\n",
    "                total_time += perf_counter() - now\n",
    "            print(f'{iters} iterations of {func.__name__} ran in: {total_time}')\n",
    "            return res\n",
    "        return wrapper\n",
    "    return inner"
   ]
  },
  {
   "cell_type": "code",
   "execution_count": 94,
   "metadata": {},
   "outputs": [
    {
     "name": "stdout",
     "output_type": "stream",
     "text": [
      "15000 iterations of my_func ran in: 0.0033480139013590815\n"
     ]
    }
   ],
   "source": [
    "@timeit(iters=15000)\n",
    "def my_func():\n",
    "    pass\n",
    "my_func()"
   ]
  },
  {
   "cell_type": "code",
   "execution_count": 95,
   "metadata": {},
   "outputs": [],
   "source": [
    "@timeit(iters=20000)\n",
    "def sum_first_n_formula(n=1000):\n",
    "    return n*(n+1)/2"
   ]
  },
  {
   "cell_type": "code",
   "execution_count": 96,
   "metadata": {},
   "outputs": [
    {
     "name": "stdout",
     "output_type": "stream",
     "text": [
      "20000 iterations of sum_first_n_formula ran in: 0.006994030004989327\n"
     ]
    },
    {
     "data": {
      "text/plain": [
       "500500.0"
      ]
     },
     "execution_count": 96,
     "metadata": {},
     "output_type": "execute_result"
    }
   ],
   "source": [
    "sum_first_n_formula()"
   ]
  },
  {
   "cell_type": "markdown",
   "metadata": {},
   "source": [
    "Have to call timeit as a function if we pass no args, way to take care of this but will avoid for now as we have a solution later"
   ]
  },
  {
   "cell_type": "code",
   "execution_count": 97,
   "metadata": {},
   "outputs": [
    {
     "name": "stdout",
     "output_type": "stream",
     "text": [
      "10000 iterations of my_func_2 ran in: 0.0022722830021848495\n"
     ]
    },
    {
     "data": {
      "text/plain": [
       "2"
      ]
     },
     "execution_count": 97,
     "metadata": {},
     "output_type": "execute_result"
    }
   ],
   "source": [
    "@timeit()\n",
    "def my_func_2(n=1):\n",
    "    return n+1\n",
    "\n",
    "my_func_2()"
   ]
  },
  {
   "cell_type": "code",
   "execution_count": 98,
   "metadata": {},
   "outputs": [
    {
     "ename": "TypeError",
     "evalue": "inner() missing 1 required positional argument: 'func'",
     "output_type": "error",
     "traceback": [
      "\u001b[0;31m---------------------------------------------------------------------------\u001b[0m",
      "\u001b[0;31mTypeError\u001b[0m                                 Traceback (most recent call last)",
      "\u001b[0;32m<ipython-input-98-efd2eacf6714>\u001b[0m in \u001b[0;36m<module>\u001b[0;34m\u001b[0m\n\u001b[1;32m      3\u001b[0m     \u001b[0;32mreturn\u001b[0m \u001b[0mn\u001b[0m\u001b[0;34m+\u001b[0m\u001b[0;36m1\u001b[0m\u001b[0;34m\u001b[0m\u001b[0;34m\u001b[0m\u001b[0m\n\u001b[1;32m      4\u001b[0m \u001b[0;34m\u001b[0m\u001b[0m\n\u001b[0;32m----> 5\u001b[0;31m \u001b[0mmy_func_2\u001b[0m\u001b[0;34m(\u001b[0m\u001b[0;34m)\u001b[0m\u001b[0;34m\u001b[0m\u001b[0;34m\u001b[0m\u001b[0m\n\u001b[0m",
      "\u001b[0;31mTypeError\u001b[0m: inner() missing 1 required positional argument: 'func'"
     ]
    }
   ],
   "source": [
    "@timeit\n",
    "def my_func_2(n=1):\n",
    "    return n+1\n",
    "\n",
    "my_func_2()"
   ]
  },
  {
   "cell_type": "markdown",
   "metadata": {},
   "source": [
    "#### What about decorators on class instance methods?"
   ]
  },
  {
   "cell_type": "code",
   "execution_count": 99,
   "metadata": {},
   "outputs": [],
   "source": [
    "def reduce_repeated_class_logic(func):\n",
    "    def wrapper(self, *args, **kwargs):\n",
    "        self.is_important = not self.is_important\n",
    "        return func(self, *args, **kwargs)\n",
    "    return wrapper\n",
    "\n",
    "class MyClass:\n",
    "    is_important: bool=True\n",
    "    \n",
    "    @reduce_repeated_class_logic\n",
    "    def do_something_important(self):\n",
    "        pass\n",
    "    \n",
    "    @reduce_repeated_class_logic\n",
    "    def do_another_important_thing_similar_to_above(self):\n",
    "        pass\n",
    "    "
   ]
  },
  {
   "cell_type": "code",
   "execution_count": 100,
   "metadata": {},
   "outputs": [
    {
     "data": {
      "text/plain": [
       "True"
      ]
     },
     "execution_count": 100,
     "metadata": {},
     "output_type": "execute_result"
    }
   ],
   "source": [
    "my_class = MyClass()\n",
    "my_class.is_important"
   ]
  },
  {
   "cell_type": "code",
   "execution_count": 101,
   "metadata": {},
   "outputs": [
    {
     "data": {
      "text/plain": [
       "False"
      ]
     },
     "execution_count": 101,
     "metadata": {},
     "output_type": "execute_result"
    }
   ],
   "source": [
    "my_class.do_something_important()\n",
    "my_class.is_important"
   ]
  },
  {
   "cell_type": "code",
   "execution_count": 102,
   "metadata": {},
   "outputs": [
    {
     "data": {
      "text/plain": [
       "True"
      ]
     },
     "execution_count": 102,
     "metadata": {},
     "output_type": "execute_result"
    }
   ],
   "source": [
    "my_class.do_another_important_thing_similar_to_above()\n",
    "my_class.is_important"
   ]
  },
  {
   "cell_type": "markdown",
   "metadata": {},
   "source": [
    "Decorator module to help with writing decorators"
   ]
  },
  {
   "cell_type": "code",
   "execution_count": 103,
   "metadata": {},
   "outputs": [],
   "source": [
    "from decorator import decorator"
   ]
  },
  {
   "cell_type": "code",
   "execution_count": 104,
   "metadata": {},
   "outputs": [],
   "source": [
    "@decorator\n",
    "def reduce_repeated_class_logic_2(func, self, *args, **kwargs):\n",
    "    self.is_important = not self.is_important\n",
    "    return func(self, *args, **kwargs)"
   ]
  },
  {
   "cell_type": "code",
   "execution_count": 105,
   "metadata": {},
   "outputs": [],
   "source": [
    "class MyClass:\n",
    "    is_important: bool=True\n",
    "    \n",
    "    @reduce_repeated_class_logic_2\n",
    "    def do_something_important(self):\n",
    "        pass\n",
    "    \n",
    "    @reduce_repeated_class_logic_2\n",
    "    def do_another_important_thing_similar_to_above(self):\n",
    "        pass"
   ]
  },
  {
   "cell_type": "code",
   "execution_count": 106,
   "metadata": {},
   "outputs": [
    {
     "data": {
      "text/plain": [
       "True"
      ]
     },
     "execution_count": 106,
     "metadata": {},
     "output_type": "execute_result"
    }
   ],
   "source": [
    "my_class = MyClass()\n",
    "my_class.is_important"
   ]
  },
  {
   "cell_type": "code",
   "execution_count": 107,
   "metadata": {},
   "outputs": [
    {
     "data": {
      "text/plain": [
       "False"
      ]
     },
     "execution_count": 107,
     "metadata": {},
     "output_type": "execute_result"
    }
   ],
   "source": [
    "my_class.do_something_important()\n",
    "my_class.is_important"
   ]
  },
  {
   "cell_type": "markdown",
   "metadata": {},
   "source": [
    "Decorators are not restricted to just functions, they can be used on classes as well. The below takes the concept above one step further by decorating all the class methods using a decorator on the class itself"
   ]
  },
  {
   "cell_type": "code",
   "execution_count": 110,
   "metadata": {},
   "outputs": [],
   "source": [
    "def decorate_methods(decorator, exclude_list=None):\n",
    "    exclude_list = [] if exclude_list is None else exclude_list\n",
    "    def decorate_methods_inner(cls):\n",
    "        for attr in cls.__dict__:\n",
    "            if callable(getattr(cls, attr)) and '__' not in attr and attr not in exclude_list:\n",
    "                setattr(cls, attr, decorator(getattr(cls, attr)))\n",
    "        return cls\n",
    "    return decorate_methods_inner"
   ]
  },
  {
   "cell_type": "code",
   "execution_count": 111,
   "metadata": {},
   "outputs": [],
   "source": [
    "@decorate_methods(reduce_repeated_class_logic_2, exclude_list=['exclude'])\n",
    "class MyClass:\n",
    "    is_important: bool=True\n",
    "    \n",
    "    def do_something_important(self):\n",
    "        pass\n",
    "    \n",
    "    def do_another_important_thing_similar_to_above(self):\n",
    "        pass\n",
    "    \n",
    "    def exclude(self):\n",
    "        pass"
   ]
  },
  {
   "cell_type": "code",
   "execution_count": 112,
   "metadata": {},
   "outputs": [
    {
     "name": "stdout",
     "output_type": "stream",
     "text": [
      "True\n",
      "False\n",
      "True\n",
      "True\n"
     ]
    }
   ],
   "source": [
    "my_class = MyClass()\n",
    "print(my_class.is_important)\n",
    "my_class.do_something_important()\n",
    "print(my_class.is_important)\n",
    "my_class.do_another_important_thing_similar_to_above()\n",
    "print(my_class.is_important)\n",
    "my_class.exclude\n",
    "print(my_class.is_important)"
   ]
  }
 ],
 "metadata": {
  "kernelspec": {
   "display_name": "Python 3",
   "language": "python",
   "name": "python3"
  },
  "language_info": {
   "codemirror_mode": {
    "name": "ipython",
    "version": 3
   },
   "file_extension": ".py",
   "mimetype": "text/x-python",
   "name": "python",
   "nbconvert_exporter": "python",
   "pygments_lexer": "ipython3",
   "version": "3.7.6"
  }
 },
 "nbformat": 4,
 "nbformat_minor": 4
}
